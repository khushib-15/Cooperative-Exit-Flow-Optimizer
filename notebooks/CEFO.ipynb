{
 "cells": [
  {
   "cell_type": "markdown",
   "id": "c3d62d6b-a0ed-44d8-98f3-d6d054c05b79",
   "metadata": {},
   "source": [
    "## 1. Setup & Config"
   ]
  },
  {
   "cell_type": "code",
   "execution_count": 34,
   "id": "80c86a64-bd12-48c0-91cb-a38e58bcccd4",
   "metadata": {},
   "outputs": [],
   "source": [
    "import random\n",
    "import matplotlib.pyplot as plt\n",
    "from dataclasses import dataclass\n",
    "from typing import List, Tuple, Dict\n",
    "\n",
    "config = {\n",
    "    \"episode_id\": \"Monday_11AM\",\n",
    "    \"num_classrooms\": 6,\n",
    "    \"attendance\": [100, 95, 20, 80, 35, 50],\n",
    "    \"bottleneck\": {\n",
    "        \"capacity_per_minute\": 30,\n",
    "        \"batch_duration_min\": 2\n",
    "    },\n",
    "    \"time_offsets\": [0, -2, 2, -4, 4, -6, 6],\n",
    "    \"time_offsets\": [0, 0, 0, 0, 0, 0, 0],\n",
    "    \"max_negotiation_rounds\": 5,\n",
    "    \"violation_threshold\": 3,\n",
    "    \"random_seed\": 42\n",
    "}\n",
    "\n",
    "random.seed(config[\"random_seed\"])\n"
   ]
  },
  {
   "cell_type": "markdown",
   "id": "4df76995-45b2-4390-a2e0-dadc964558a7",
   "metadata": {},
   "source": [
    "## 2. Define Message Schemas"
   ]
  },
  {
   "cell_type": "code",
   "execution_count": 35,
   "id": "8878f943-dd89-4c8e-81bd-28d89620e82b",
   "metadata": {},
   "outputs": [],
   "source": [
    "@dataclass\n",
    "class CapacityBroadcast:\n",
    "    cap_per_min: int\n",
    "    total_estimate: int\n",
    "    episode_id: str\n",
    "\n",
    "@dataclass\n",
    "class Offer:\n",
    "    offer_id: str\n",
    "    from_id: str\n",
    "    to_id: str\n",
    "    shift_min: int\n",
    "    moved_students: int\n",
    "    trade_credit: int\n",
    "    episode_id: str\n",
    "\n",
    "@dataclass\n",
    "class Accept:\n",
    "    offer_id: str\n",
    "    from_id: str\n",
    "    to_id: str\n",
    "    episode_id: str\n",
    "\n",
    "@dataclass\n",
    "class Reject:\n",
    "    offer_id: str\n",
    "    from_id: str\n",
    "    to_id: str\n",
    "    reason: str\n",
    "    episode_id: str"
   ]
  },
  {
   "cell_type": "markdown",
   "id": "92601865-629d-45b0-b8d0-b528cb72d1e2",
   "metadata": {},
   "source": [
    "## 3. Bottleneck Agent"
   ]
  },
  {
   "cell_type": "code",
   "execution_count": 36,
   "id": "8f80b8d3-969e-44d1-8490-f8b4aba04466",
   "metadata": {},
   "outputs": [],
   "source": [
    "class BottleneckAgent:\n",
    "    def __init__(self, config):\n",
    "        self.cap_per_min = config[\"bottleneck\"][\"capacity_per_minute\"]\n",
    "        self.batch_duration = config[\"bottleneck\"][\"batch_duration_min\"]\n",
    "        self.per_batch = self.cap_per_min * self.batch_duration\n",
    "\n",
    "    def broadcast_capacity(self, attendance_list, episode_id):\n",
    "        total_estimate = sum(attendance_list)\n",
    "        msg = CapacityBroadcast(self.cap_per_min, total_estimate, episode_id)\n",
    "        return msg"
   ]
  },
  {
   "cell_type": "markdown",
   "id": "d3892674-5f09-449b-a30a-03a92f50920b",
   "metadata": {},
   "source": [
    "## 4. Classroom Agent"
   ]
  },
  {
   "cell_type": "code",
   "execution_count": 37,
   "id": "da7b3040-5fe7-4773-bb8a-de522039e9cb",
   "metadata": {},
   "outputs": [],
   "source": [
    "\n",
    "\n",
    "class ClassroomAgent:\n",
    "    def __init__(self, id, attendance, config, professor_willingness=0.7):\n",
    "        self.id = id\n",
    "        self.attendance = attendance\n",
    "        self.config = config\n",
    "        self.professor_willingness = professor_willingness\n",
    "        self.commitment_history = []\n",
    "        self.planned_slots = [(0, attendance)]\n",
    "        self.per_batch = config[\"bottleneck\"][\"capacity_per_minute\"] * config[\"bottleneck\"][\"batch_duration_min\"]\n",
    "\n",
    "    def on_capacity_broadcast(self, msg: CapacityBroadcast, index=0):\n",
    "        offsets = self.config[\"time_offsets\"]\n",
    "        chosen_offset = offsets[index % len(offsets)]\n",
    "        take = min(self.attendance, self.per_batch)\n",
    "        self.planned_slots = [(chosen_offset, take)]\n",
    "\n",
    "    def propose_shift(self, target_agent, congestion_offset):\n",
    "        if random.random() < self.professor_willingness:\n",
    "            shift = random.choice([-2, 2])\n",
    "            offer = Offer(\n",
    "                offer_id=f\"offer_{self.id}_{target_agent.id}\",\n",
    "                from_id=self.id,\n",
    "                to_id=target_agent.id,\n",
    "                shift_min=shift,\n",
    "                moved_students=min(self.attendance, self.per_batch),\n",
    "                trade_credit=1,\n",
    "                episode_id=self.config[\"episode_id\"]\n",
    "            )\n",
    "            return offer\n",
    "        else:\n",
    "            return None\n",
    "\n",
    "    def apply_offer(self, offer: Offer):\n",
    "        \"\"\"Accept offer only if I am the intended receiver\"\"\"\n",
    "        if self.id != offer.to_id:\n",
    "            return\n",
    "        new_slots = []\n",
    "        for offset, count in self.planned_slots:\n",
    "            new_slots.append((offset + offer.shift_min, count))\n",
    "        self.planned_slots = new_slots\n",
    "        self.commitment_history.append(offer)\n",
    "\n",
    "    def broadcast_schedule(self):\n",
    "        return {\"id\": self.id, \"slots\": self.planned_slots}"
   ]
  },
  {
   "cell_type": "markdown",
   "id": "d4b44b07-d31d-4eff-adfb-4b8b7f0babf8",
   "metadata": {},
   "source": [
    "##  NEGOTIATION SIMULATION"
   ]
  },
  {
   "cell_type": "code",
   "execution_count": 38,
   "id": "bcee0f55-d128-4821-8422-3b19cd523b61",
   "metadata": {},
   "outputs": [
    {
     "name": "stdout",
     "output_type": "stream",
     "text": [
      "C1 proposes to C2: shift -2 min\n",
      "C1 proposes to C3: shift -2 min\n",
      "C2 proposes to C3: shift -2 min\n",
      "C1 proposes to C4: shift -2 min\n",
      "{'id': 'C1', 'slots': [(0, 60)]}\n",
      "{'id': 'C2', 'slots': [(-2, 60)]}\n",
      "{'id': 'C3', 'slots': [(-4, 20)]}\n",
      "{'id': 'C4', 'slots': [(-2, 60)]}\n",
      "{'id': 'C5', 'slots': [(0, 35)]}\n",
      "{'id': 'C6', 'slots': [(0, 50)]}\n"
     ]
    }
   ],
   "source": [
    "B = BottleneckAgent(config)\n",
    "classrooms = [\n",
    "    ClassroomAgent(f\"C{i+1}\", config[\"attendance\"][i], config)\n",
    "    for i in range(config[\"num_classrooms\"])\n",
    "]\n",
    "\n",
    "# Step 1: Capacity broadcast\n",
    "msg = B.broadcast_capacity(config[\"attendance\"], config[\"episode_id\"])\n",
    "\n",
    "# Step 2: Initial slot assignment\n",
    "for i, c in enumerate(classrooms):\n",
    "    c.on_capacity_broadcast(msg, index=i)\n",
    "\n",
    "# Step 3: Negotiation loop\n",
    "for round_ in range(config[\"max_negotiation_rounds\"]):\n",
    "    # Count students per slot\n",
    "    slot_map: Dict[int, int] = {}\n",
    "    for c in classrooms:\n",
    "        for offset, count in c.planned_slots:\n",
    "            slot_map[offset] = slot_map.get(offset, 0) + count\n",
    "\n",
    "    congested_offsets = [off for off, val in slot_map.items() if val > B.per_batch]\n",
    "\n",
    "    if not congested_offsets:\n",
    "        print(f\"No congestion after round {round_}\")\n",
    "        break\n",
    "\n",
    "    for off in congested_offsets:\n",
    "        congested_agents = [c for c in classrooms if any(s[0] == off for s in c.planned_slots)]\n",
    "        if len(congested_agents) >= 2:\n",
    "            a1, a2 = congested_agents[:2]\n",
    "            offer = a1.propose_shift(a2, off)\n",
    "            if offer:\n",
    "                print(f\"{a1.id} proposes to {a2.id}: shift {offer.shift_min} min\")\n",
    "                # apply shift to the target (receiver)\n",
    "                a2.apply_offer(offer)\n",
    "                # record agreement in proposer’s history too\n",
    "                a1.commitment_history.append(offer)\n",
    "\n",
    "\n",
    "# Step 4: Final schedules\n",
    "schedules = [c.broadcast_schedule() for c in classrooms]\n",
    "for s in schedules:\n",
    "    print(s)\n"
   ]
  },
  {
   "cell_type": "markdown",
   "id": "a3824ce1-de9e-4c36-ad02-d36b2fffbcb3",
   "metadata": {},
   "source": [
    "## Visualization"
   ]
  },
  {
   "cell_type": "code",
   "execution_count": 39,
   "id": "7897b79f-c329-4586-b5d2-535f34cdf612",
   "metadata": {},
   "outputs": [
    {
     "data": {
      "image/png": "[encoded data removed]",
      "text/plain": [
       "<Figure size 640x480 with 1 Axes>"
      ]
     },
     "metadata": {},
     "output_type": "display_data"
    }
   ],
   "source": [
    "\n",
    "slot_map = {}\n",
    "for sched in schedules:\n",
    "    for offset, count in sched[\"slots\"]:\n",
    "        slot_map[offset] = slot_map.get(offset, 0) + count\n",
    "\n",
    "plt.bar(slot_map.keys(), slot_map.values(), width=1.5)\n",
    "plt.axhline(B.per_batch, color=\"red\", linestyle=\"--\", label=\"Capacity\")\n",
    "plt.xlabel(\"Time offset (minutes)\")\n",
    "plt.ylabel(\"Students exiting\")\n",
    "plt.legend()\n",
    "plt.show()"
   ]
  },
  {
   "cell_type": "code",
   "execution_count": null,
   "id": "8318ae06-8809-4bf2-9b9d-431f6c260e10",
   "metadata": {},
   "outputs": [],
   "source": []
  }
 ],
 "metadata": {
  "kernelspec": {
   "display_name": "Python 3 (ipykernel)",
   "language": "python",
   "name": "python3"
  },
  "language_info": {
   "codemirror_mode": {
    "name": "ipython",
    "version": 3
   },
   "file_extension": ".py",
   "mimetype": "text/x-python",
   "name": "python",
   "nbconvert_exporter": "python",
   "pygments_lexer": "ipython3",
   "version": "3.12.1"
  }
 },
 "nbformat": 4,
 "nbformat_minor": 5
}
